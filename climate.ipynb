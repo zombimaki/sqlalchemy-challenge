{
 "cells": [
  {
   "cell_type": "code",
   "execution_count": 1,
   "metadata": {},
   "outputs": [],
   "source": [
    "%matplotlib inline\n",
    "from matplotlib import style\n",
    "style.use('fivethirtyeight')\n",
    "import matplotlib.pyplot as plt"
   ]
  },
  {
   "cell_type": "code",
   "execution_count": 2,
   "metadata": {},
   "outputs": [],
   "source": [
    "import numpy as np\n",
    "import pandas as pd"
   ]
  },
  {
   "cell_type": "code",
   "execution_count": 3,
   "metadata": {},
   "outputs": [],
   "source": [
    "import datetime as dt"
   ]
  },
  {
   "cell_type": "markdown",
   "metadata": {},
   "source": [
    "# Reflect Tables into SQLAlchemy ORM"
   ]
  },
  {
   "cell_type": "code",
   "execution_count": 4,
   "metadata": {},
   "outputs": [],
   "source": [
    "# Python SQL toolkit and Object Relational Mapper\n",
    "import sqlalchemy\n",
    "from sqlalchemy.ext.automap import automap_base\n",
    "from sqlalchemy.orm import Session\n",
    "from sqlalchemy import create_engine, func, inspect, extract, or_"
   ]
  },
  {
   "cell_type": "code",
   "execution_count": 5,
   "metadata": {},
   "outputs": [],
   "source": [
    "engine = create_engine(\"sqlite:///Resources/hawaii.sqlite\")"
   ]
  },
  {
   "cell_type": "code",
   "execution_count": 6,
   "metadata": {},
   "outputs": [],
   "source": [
    "# reflect an existing database into a new model\n",
    "Base = automap_base()\n",
    "\n",
    "# reflect the tables\n",
    "Base.prepare(engine, reflect=True)"
   ]
  },
  {
   "cell_type": "code",
   "execution_count": 7,
   "metadata": {},
   "outputs": [
    {
     "data": {
      "text/plain": [
       "['measurement', 'station']"
      ]
     },
     "execution_count": 7,
     "metadata": {},
     "output_type": "execute_result"
    }
   ],
   "source": [
    "# We can view all of the classes that automap found\n",
    "Base.classes.keys()"
   ]
  },
  {
   "cell_type": "code",
   "execution_count": 8,
   "metadata": {},
   "outputs": [
    {
     "name": "stdout",
     "output_type": "stream",
     "text": [
      "-----------------\n",
      "measurement table\n",
      "-----------------\n",
      "id INTEGER\n",
      "station TEXT\n",
      "date TEXT\n",
      "prcp FLOAT\n",
      "tobs FLOAT\n",
      "-----------------\n",
      "station table\n",
      "-----------------\n",
      "id INTEGER\n",
      "station TEXT\n",
      "name TEXT\n",
      "latitude FLOAT\n",
      "longitude FLOAT\n",
      "elevation FLOAT\n"
     ]
    }
   ],
   "source": [
    "# get a listing of columns and data types for the meausurement and station tables\n",
    "inspector = inspect(engine)\n",
    "\n",
    "columns = inspector.get_columns('measurement')\n",
    "print('-----------------')\n",
    "print('measurement table')\n",
    "print('-----------------')\n",
    "for column in columns:\n",
    "    print(column[\"name\"], column[\"type\"])\n",
    "    \n",
    "columns = inspector.get_columns('station')\n",
    "print('-----------------')\n",
    "print('station table')\n",
    "print('-----------------')\n",
    "for column in columns:\n",
    "    print(column[\"name\"], column[\"type\"])"
   ]
  },
  {
   "cell_type": "code",
   "execution_count": 9,
   "metadata": {},
   "outputs": [
    {
     "data": {
      "text/plain": [
       "[(1, 'USC00519397', '2010-01-01', 0.08, 65.0),\n",
       " (2, 'USC00519397', '2010-01-02', 0.0, 63.0),\n",
       " (3, 'USC00519397', '2010-01-03', 0.0, 74.0),\n",
       " (4, 'USC00519397', '2010-01-04', 0.0, 76.0),\n",
       " (5, 'USC00519397', '2010-01-06', None, 73.0),\n",
       " (6, 'USC00519397', '2010-01-07', 0.06, 70.0),\n",
       " (7, 'USC00519397', '2010-01-08', 0.0, 64.0),\n",
       " (8, 'USC00519397', '2010-01-09', 0.0, 68.0),\n",
       " (9, 'USC00519397', '2010-01-10', 0.0, 73.0),\n",
       " (10, 'USC00519397', '2010-01-11', 0.01, 64.0)]"
      ]
     },
     "execution_count": 9,
     "metadata": {},
     "output_type": "execute_result"
    }
   ],
   "source": [
    "# Inspect the data values in the meaurement table\n",
    "engine.execute('SELECT * FROM measurement LIMIT 10').fetchall()"
   ]
  },
  {
   "cell_type": "code",
   "execution_count": 10,
   "metadata": {},
   "outputs": [
    {
     "data": {
      "text/plain": [
       "[(1, 'USC00519397', 'WAIKIKI 717.2, HI US', 21.2716, -157.8168, 3.0),\n",
       " (2, 'USC00513117', 'KANEOHE 838.1, HI US', 21.4234, -157.8015, 14.6),\n",
       " (3, 'USC00514830', 'KUALOA RANCH HEADQUARTERS 886.9, HI US', 21.5213, -157.8374, 7.0),\n",
       " (4, 'USC00517948', 'PEARL CITY, HI US', 21.3934, -157.9751, 11.9),\n",
       " (5, 'USC00518838', 'UPPER WAHIAWA 874.3, HI US', 21.4992, -158.0111, 306.6),\n",
       " (6, 'USC00519523', 'WAIMANALO EXPERIMENTAL FARM, HI US', 21.33556, -157.71139, 19.5),\n",
       " (7, 'USC00519281', 'WAIHEE 837.5, HI US', 21.45167, -157.84888999999998, 32.9),\n",
       " (8, 'USC00511918', 'HONOLULU OBSERVATORY 702.2, HI US', 21.3152, -157.9992, 0.9),\n",
       " (9, 'USC00516128', 'MANOA LYON ARBO 785.2, HI US', 21.3331, -157.8025, 152.4)]"
      ]
     },
     "execution_count": 10,
     "metadata": {},
     "output_type": "execute_result"
    }
   ],
   "source": [
    "# Inspect the data values in the station table\n",
    "engine.execute('SELECT * FROM station LIMIT 10').fetchall()"
   ]
  },
  {
   "cell_type": "code",
   "execution_count": 11,
   "metadata": {},
   "outputs": [],
   "source": [
    "# Save references to each table\n",
    "Measurement = Base.classes.measurement\n",
    "Station = Base.classes.station"
   ]
  },
  {
   "cell_type": "code",
   "execution_count": 12,
   "metadata": {},
   "outputs": [],
   "source": [
    "# Create our session (link) from Python to the DB\n",
    "session = Session(engine)"
   ]
  },
  {
   "cell_type": "markdown",
   "metadata": {},
   "source": [
    "# Exploratory Climate Analysis"
   ]
  },
  {
   "cell_type": "code",
   "execution_count": 13,
   "metadata": {},
   "outputs": [
    {
     "name": "stdout",
     "output_type": "stream",
     "text": [
      "Prior Year Date: 2016-08-23\n"
     ]
    },
    {
     "data": {
      "text/plain": [
       "Text(0, 0.5, 'Inches')"
      ]
     },
     "execution_count": 13,
     "metadata": {},
     "output_type": "execute_result"
    },
    {
     "data": {
      "image/png": "[encoded data removed]",
      "text/plain": [
       "<Figure size 720x360 with 1 Axes>"
      ]
     },
     "metadata": {},
     "output_type": "display_data"
    }
   ],
   "source": [
    "# Design a query to retrieve the last 12 months of precipitation data and plot the results\n",
    "\n",
    "# Calculate the date 1 year ago from the last data point in the database\n",
    "max_date_str = session.query(Measurement.date).order_by(Measurement.date.desc()).first()\n",
    "max_date = dt.datetime.strptime(max_date_str[0], '%Y-%m-%d')\n",
    "prior_year_date = dt.date(max_date.year -1, max_date.month, max_date.day)\n",
    "print(f'Prior Year Date: {prior_year_date}')\n",
    "\n",
    "# Perform a query to retrieve the data and precipitation scores\n",
    "sel = [Measurement.date,Measurement.prcp]\n",
    "precipitation_query = session.query(*sel).filter(Measurement.date >= prior_year_date).all()\n",
    "\n",
    "# Save the query results as a Pandas DataFrame and set the index to the date column\n",
    "precipitation_df = pd.DataFrame(precipitation_query, columns=['Date','Precipitation'])\n",
    "precipitation_df = precipitation_df.set_index('Date')\n",
    "\n",
    "# Sort the dataframe by date\n",
    "precipitation_df = precipitation_df.sort_index(axis=0)\n",
    "\n",
    "# delete null precipitation values\n",
    "precipitation_df = precipitation_df.dropna()\n",
    "\n",
    "# Use Pandas Plotting with Matplotlib to plot the data\n",
    "fig, ax = plt.subplots(facecolor='white')\n",
    "ax = precipitation_df.plot(rot=90,figsize=(10,5), ax=ax)\n",
    "ax.set_title(\"Annual Precipitation Per Day\")\n",
    "ax.set_ylabel(\"Inches\")"
   ]
  },
  {
   "cell_type": "code",
   "execution_count": 14,
   "metadata": {},
   "outputs": [
    {
     "data": {
      "text/html": [
       "<div>\n",
       "<style scoped>\n",
       "    .dataframe tbody tr th:only-of-type {\n",
       "        vertical-align: middle;\n",
       "    }\n",
       "\n",
       "    .dataframe tbody tr th {\n",
       "        vertical-align: top;\n",
       "    }\n",
       "\n",
       "    .dataframe thead th {\n",
       "        text-align: right;\n",
       "    }\n",
       "</style>\n",
       "<table border=\"1\" class=\"dataframe\">\n",
       "  <thead>\n",
       "    <tr style=\"text-align: right;\">\n",
       "      <th></th>\n",
       "      <th>Precipitation</th>\n",
       "    </tr>\n",
       "  </thead>\n",
       "  <tbody>\n",
       "    <tr>\n",
       "      <th>count</th>\n",
       "      <td>2021.000000</td>\n",
       "    </tr>\n",
       "    <tr>\n",
       "      <th>mean</th>\n",
       "      <td>0.177279</td>\n",
       "    </tr>\n",
       "    <tr>\n",
       "      <th>std</th>\n",
       "      <td>0.461190</td>\n",
       "    </tr>\n",
       "    <tr>\n",
       "      <th>min</th>\n",
       "      <td>0.000000</td>\n",
       "    </tr>\n",
       "    <tr>\n",
       "      <th>25%</th>\n",
       "      <td>0.000000</td>\n",
       "    </tr>\n",
       "    <tr>\n",
       "      <th>50%</th>\n",
       "      <td>0.020000</td>\n",
       "    </tr>\n",
       "    <tr>\n",
       "      <th>75%</th>\n",
       "      <td>0.130000</td>\n",
       "    </tr>\n",
       "    <tr>\n",
       "      <th>max</th>\n",
       "      <td>6.700000</td>\n",
       "    </tr>\n",
       "  </tbody>\n",
       "</table>\n",
       "</div>"
      ],
      "text/plain": [
       "       Precipitation\n",
       "count    2021.000000\n",
       "mean        0.177279\n",
       "std         0.461190\n",
       "min         0.000000\n",
       "25%         0.000000\n",
       "50%         0.020000\n",
       "75%         0.130000\n",
       "max         6.700000"
      ]
     },
     "execution_count": 14,
     "metadata": {},
     "output_type": "execute_result"
    }
   ],
   "source": [
    "# Use Pandas to calcualte the summary statistics for the precipitation data\n",
    "precipitation_df.describe()"
   ]
  },
  {
   "cell_type": "code",
   "execution_count": 15,
   "metadata": {},
   "outputs": [
    {
     "name": "stdout",
     "output_type": "stream",
     "text": [
      "There are 9 stations available in the dataset.\n"
     ]
    }
   ],
   "source": [
    "# Design a query to show how many stations are available in this dataset?\n",
    "station_count = session.query(Station).count()\n",
    "print(f'There are {station_count} stations available in the dataset.')\n"
   ]
  },
  {
   "cell_type": "code",
   "execution_count": 16,
   "metadata": {},
   "outputs": [
    {
     "name": "stdout",
     "output_type": "stream",
     "text": [
      "('USC00519281', 2772)\n",
      "('USC00519397', 2724)\n",
      "('USC00513117', 2709)\n",
      "('USC00519523', 2669)\n",
      "('USC00516128', 2612)\n",
      "('USC00514830', 2202)\n",
      "('USC00511918', 1979)\n",
      "('USC00517948', 1372)\n",
      "('USC00518838', 511)\n"
     ]
    }
   ],
   "source": [
    "# What are the most active stations? (i.e. what stations have the most rows)?\n",
    "# List the stations and the counts in descending order.\n",
    "active_stations = session.query(Measurement.station, func.count(Measurement.id)).\\\n",
    "                    group_by(Measurement.station).\\\n",
    "                    order_by(func.count(Measurement.date).desc()).all()\n",
    "\n",
    "for active_station in active_stations:\n",
    "    print(active_station)"
   ]
  },
  {
   "cell_type": "code",
   "execution_count": 17,
   "metadata": {},
   "outputs": [
    {
     "name": "stdout",
     "output_type": "stream",
     "text": [
      "Station USC00519281 Recorded Temps: Lowest: 54.0, Highest: 85.0, Average: 71.66378066378067\n"
     ]
    }
   ],
   "source": [
    "# Using the station id from the previous query, calculate the lowest temperature recorded, \n",
    "# highest temperature recorded, and average temperature of the most active station?\n",
    "\n",
    "# identify the most active station from the previous query\n",
    "station_id = active_stations[0][0]\n",
    "\n",
    "# create the select from tobs aggregations \n",
    "sel = [func.min(Measurement.tobs),\n",
    "       func.max(Measurement.tobs),\n",
    "       func.avg(Measurement.tobs)\n",
    "      ]\n",
    "active_station_temp_stats = session.query(*sel).\\\n",
    "    filter(Measurement.station == station_id).all()\n",
    "\n",
    "for temps in active_station_temp_stats:\n",
    "    print(f'Station {station_id} Recorded Temps: Lowest: {temps[0]}, Highest: {temps[1]}, Average: {temps[2]}')"
   ]
  },
  {
   "cell_type": "code",
   "execution_count": 18,
   "metadata": {},
   "outputs": [
    {
     "name": "stdout",
     "output_type": "stream",
     "text": [
      "('2016-08-23', 77.0)\n",
      "('2016-08-24', 77.0)\n",
      "('2016-08-25', 80.0)\n",
      "('2016-08-26', 80.0)\n",
      "('2016-08-27', 75.0)\n",
      "('2016-08-28', 73.0)\n",
      "('2016-08-29', 78.0)\n",
      "('2016-08-30', 77.0)\n",
      "('2016-08-31', 78.0)\n",
      "('2016-09-01', 80.0)\n",
      "('2016-09-02', 80.0)\n",
      "('2016-09-03', 78.0)\n",
      "('2016-09-04', 78.0)\n",
      "('2016-09-05', 78.0)\n",
      "('2016-09-06', 73.0)\n",
      "('2016-09-07', 74.0)\n",
      "('2016-09-08', 80.0)\n",
      "('2016-09-09', 79.0)\n",
      "('2016-09-10', 77.0)\n",
      "('2016-09-11', 80.0)\n",
      "('2016-09-12', 76.0)\n",
      "('2016-09-13', 79.0)\n",
      "('2016-09-14', 75.0)\n",
      "('2016-09-15', 79.0)\n",
      "('2016-09-16', 78.0)\n",
      "('2016-09-17', 79.0)\n",
      "('2016-09-18', 78.0)\n",
      "('2016-09-19', 78.0)\n",
      "('2016-09-20', 76.0)\n",
      "('2016-09-21', 74.0)\n",
      "('2016-09-22', 77.0)\n",
      "('2016-09-23', 78.0)\n",
      "('2016-09-24', 79.0)\n",
      "('2016-09-25', 79.0)\n",
      "('2016-09-26', 77.0)\n",
      "('2016-09-27', 80.0)\n",
      "('2016-09-28', 78.0)\n",
      "('2016-09-29', 78.0)\n",
      "('2016-09-30', 78.0)\n",
      "('2016-10-01', 77.0)\n",
      "('2016-10-02', 79.0)\n",
      "('2016-10-03', 79.0)\n",
      "('2016-10-04', 79.0)\n",
      "('2016-10-05', 79.0)\n",
      "('2016-10-06', 75.0)\n",
      "('2016-10-07', 76.0)\n",
      "('2016-10-08', 73.0)\n",
      "('2016-10-09', 72.0)\n",
      "('2016-10-10', 71.0)\n",
      "('2016-10-11', 77.0)\n",
      "('2016-10-12', 79.0)\n",
      "('2016-10-13', 78.0)\n",
      "('2016-10-14', 79.0)\n",
      "('2016-10-15', 77.0)\n",
      "('2016-10-16', 79.0)\n",
      "('2016-10-17', 77.0)\n",
      "('2016-10-18', 78.0)\n",
      "('2016-10-19', 78.0)\n",
      "('2016-10-20', 78.0)\n",
      "('2016-10-21', 78.0)\n",
      "('2016-10-22', 77.0)\n",
      "('2016-10-23', 74.0)\n",
      "('2016-10-24', 75.0)\n",
      "('2016-10-25', 76.0)\n",
      "('2016-10-26', 73.0)\n",
      "('2016-10-27', 76.0)\n",
      "('2016-10-28', 74.0)\n",
      "('2016-10-29', 77.0)\n",
      "('2016-10-30', 76.0)\n",
      "('2016-10-31', 76.0)\n",
      "('2016-11-01', 74.0)\n",
      "('2016-11-02', 75.0)\n",
      "('2016-11-03', 75.0)\n",
      "('2016-11-04', 75.0)\n",
      "('2016-11-05', 75.0)\n",
      "('2016-11-06', 71.0)\n",
      "('2016-11-07', 63.0)\n",
      "('2016-11-08', 70.0)\n",
      "('2016-11-09', 68.0)\n",
      "('2016-11-10', 67.0)\n",
      "('2016-11-11', 77.0)\n",
      "('2016-11-12', 74.0)\n",
      "('2016-11-13', 77.0)\n",
      "('2016-11-14', 76.0)\n",
      "('2016-11-15', 76.0)\n",
      "('2016-11-16', 75.0)\n",
      "('2016-11-17', 76.0)\n",
      "('2016-11-18', 75.0)\n",
      "('2016-11-19', 73.0)\n",
      "('2016-11-20', 75.0)\n",
      "('2016-11-21', 73.0)\n",
      "('2016-11-22', 75.0)\n",
      "('2016-11-23', 74.0)\n",
      "('2016-11-24', 75.0)\n",
      "('2016-11-25', 74.0)\n",
      "('2016-11-26', 75.0)\n",
      "('2016-11-27', 73.0)\n",
      "('2016-11-28', 75.0)\n",
      "('2016-11-29', 73.0)\n",
      "('2016-11-30', 73.0)\n",
      "('2016-12-01', 74.0)\n",
      "('2016-12-02', 70.0)\n",
      "('2016-12-03', 72.0)\n",
      "('2016-12-04', 70.0)\n",
      "('2016-12-05', 67.0)\n",
      "('2016-12-06', 67.0)\n",
      "('2016-12-07', 69.0)\n",
      "('2016-12-08', 70.0)\n",
      "('2016-12-09', 68.0)\n",
      "('2016-12-10', 69.0)\n",
      "('2016-12-11', 69.0)\n",
      "('2016-12-12', 66.0)\n",
      "('2016-12-13', 65.0)\n",
      "('2016-12-14', 68.0)\n",
      "('2016-12-15', 62.0)\n",
      "('2016-12-16', 75.0)\n",
      "('2016-12-17', 70.0)\n",
      "('2016-12-18', 69.0)\n",
      "('2016-12-19', 76.0)\n",
      "('2016-12-20', 76.0)\n",
      "('2016-12-21', 74.0)\n",
      "('2016-12-22', 73.0)\n",
      "('2016-12-23', 71.0)\n",
      "('2016-12-24', 74.0)\n",
      "('2016-12-25', 74.0)\n",
      "('2016-12-26', 72.0)\n",
      "('2016-12-27', 71.0)\n",
      "('2016-12-28', 72.0)\n",
      "('2016-12-29', 74.0)\n",
      "('2016-12-30', 69.0)\n",
      "('2016-12-31', 67.0)\n",
      "('2017-01-01', 72.0)\n",
      "('2017-01-02', 70.0)\n",
      "('2017-01-03', 64.0)\n",
      "('2017-01-04', 63.0)\n",
      "('2017-01-05', 63.0)\n",
      "('2017-01-06', 62.0)\n",
      "('2017-01-07', 70.0)\n",
      "('2017-01-08', 70.0)\n",
      "('2017-01-09', 62.0)\n",
      "('2017-01-10', 62.0)\n",
      "('2017-01-11', 63.0)\n",
      "('2017-01-12', 65.0)\n",
      "('2017-01-13', 69.0)\n",
      "('2017-01-14', 77.0)\n",
      "('2017-01-15', 70.0)\n",
      "('2017-01-16', 74.0)\n",
      "('2017-01-17', 69.0)\n",
      "('2017-01-18', 72.0)\n",
      "('2017-01-19', 71.0)\n",
      "('2017-01-20', 69.0)\n",
      "('2017-01-21', 71.0)\n",
      "('2017-01-22', 71.0)\n",
      "('2017-01-23', 72.0)\n",
      "('2017-01-24', 72.0)\n",
      "('2017-01-25', 69.0)\n",
      "('2017-01-26', 70.0)\n",
      "('2017-01-27', 66.0)\n",
      "('2017-01-28', 65.0)\n",
      "('2017-01-29', 69.0)\n",
      "('2017-01-30', 68.0)\n",
      "('2017-01-31', 68.0)\n",
      "('2017-02-01', 68.0)\n",
      "('2017-02-02', 59.0)\n",
      "('2017-02-03', 60.0)\n",
      "('2017-02-04', 70.0)\n",
      "('2017-02-05', 73.0)\n",
      "('2017-02-06', 75.0)\n",
      "('2017-02-07', 64.0)\n",
      "('2017-02-08', 59.0)\n",
      "('2017-02-09', 59.0)\n",
      "('2017-02-10', 62.0)\n",
      "('2017-02-11', 68.0)\n",
      "('2017-02-12', 70.0)\n",
      "('2017-02-13', 73.0)\n",
      "('2017-02-14', 79.0)\n",
      "('2017-02-15', 75.0)\n",
      "('2017-02-16', 65.0)\n",
      "('2017-02-17', 70.0)\n",
      "('2017-02-18', 74.0)\n",
      "('2017-02-19', 70.0)\n",
      "('2017-02-20', 70.0)\n",
      "('2017-02-21', 71.0)\n",
      "('2017-02-22', 71.0)\n",
      "('2017-02-23', 71.0)\n",
      "('2017-02-24', 69.0)\n",
      "('2017-02-25', 61.0)\n",
      "('2017-02-26', 67.0)\n",
      "('2017-02-27', 65.0)\n",
      "('2017-02-28', 72.0)\n",
      "('2017-03-01', 71.0)\n",
      "('2017-03-02', 73.0)\n",
      "('2017-03-03', 72.0)\n",
      "('2017-03-04', 77.0)\n",
      "('2017-03-05', 73.0)\n",
      "('2017-03-06', 67.0)\n",
      "('2017-03-07', 62.0)\n",
      "('2017-03-08', 64.0)\n",
      "('2017-03-09', 67.0)\n",
      "('2017-03-10', 66.0)\n",
      "('2017-03-11', 81.0)\n",
      "('2017-03-12', 69.0)\n",
      "('2017-03-13', 66.0)\n",
      "('2017-03-14', 67.0)\n",
      "('2017-03-15', 69.0)\n",
      "('2017-03-16', 66.0)\n",
      "('2017-03-17', 68.0)\n",
      "('2017-03-18', 65.0)\n",
      "('2017-03-19', 74.0)\n",
      "('2017-03-20', 69.0)\n",
      "('2017-03-21', 72.0)\n",
      "('2017-03-22', 73.0)\n",
      "('2017-03-23', 72.0)\n",
      "('2017-03-24', 71.0)\n",
      "('2017-03-25', 76.0)\n",
      "('2017-03-26', 77.0)\n",
      "('2017-03-27', 76.0)\n",
      "('2017-03-28', 74.0)\n",
      "('2017-03-29', 68.0)\n",
      "('2017-03-30', 73.0)\n",
      "('2017-03-31', 71.0)\n",
      "('2017-04-01', 74.0)\n",
      "('2017-04-02', 75.0)\n",
      "('2017-04-03', 70.0)\n",
      "('2017-04-04', 67.0)\n",
      "('2017-04-05', 71.0)\n",
      "('2017-04-06', 67.0)\n",
      "('2017-04-07', 74.0)\n",
      "('2017-04-08', 77.0)\n",
      "('2017-04-09', 78.0)\n",
      "('2017-04-10', 67.0)\n",
      "('2017-04-11', 70.0)\n",
      "('2017-04-12', 69.0)\n",
      "('2017-04-13', 69.0)\n",
      "('2017-04-14', 74.0)\n",
      "('2017-04-15', 78.0)\n",
      "('2017-04-16', 71.0)\n",
      "('2017-04-17', 67.0)\n",
      "('2017-04-18', 68.0)\n",
      "('2017-04-19', 67.0)\n",
      "('2017-04-20', 76.0)\n",
      "('2017-04-21', 69.0)\n",
      "('2017-04-22', 72.0)\n",
      "('2017-04-23', 76.0)\n",
      "('2017-04-24', 68.0)\n",
      "('2017-04-25', 72.0)\n",
      "('2017-04-26', 74.0)\n",
      "('2017-04-27', 70.0)\n",
      "('2017-04-28', 67.0)\n",
      "('2017-04-29', 72.0)\n",
      "('2017-04-30', 60.0)\n",
      "('2017-05-01', 65.0)\n",
      "('2017-05-02', 75.0)\n",
      "('2017-05-03', 70.0)\n",
      "('2017-05-04', 75.0)\n",
      "('2017-05-05', 70.0)\n",
      "('2017-05-06', 79.0)\n",
      "('2017-05-07', 75.0)\n",
      "('2017-05-08', 70.0)\n",
      "('2017-05-09', 67.0)\n",
      "('2017-05-10', 74.0)\n",
      "('2017-05-11', 70.0)\n",
      "('2017-05-12', 75.0)\n",
      "('2017-05-13', 76.0)\n",
      "('2017-05-14', 77.0)\n",
      "('2017-05-15', 74.0)\n",
      "('2017-05-16', 74.0)\n",
      "('2017-05-17', 74.0)\n",
      "('2017-05-18', 69.0)\n",
      "('2017-05-19', 68.0)\n",
      "('2017-05-20', 76.0)\n",
      "('2017-05-21', 74.0)\n",
      "('2017-05-22', 71.0)\n",
      "('2017-05-23', 71.0)\n",
      "('2017-05-24', 74.0)\n",
      "('2017-05-25', 74.0)\n",
      "('2017-05-26', 74.0)\n",
      "('2017-05-27', 74.0)\n",
      "('2017-05-28', 80.0)\n",
      "('2017-05-29', 74.0)\n",
      "('2017-05-30', 72.0)\n",
      "('2017-05-31', 75.0)\n",
      "('2017-06-01', 80.0)\n",
      "('2017-06-02', 76.0)\n",
      "('2017-06-03', 76.0)\n",
      "('2017-06-04', 77.0)\n",
      "('2017-06-05', 75.0)\n",
      "('2017-06-06', 75.0)\n",
      "('2017-06-07', 75.0)\n",
      "('2017-06-08', 75.0)\n",
      "('2017-06-09', 72.0)\n",
      "('2017-06-10', 74.0)\n",
      "('2017-06-11', 74.0)\n",
      "('2017-06-12', 74.0)\n",
      "('2017-06-13', 76.0)\n",
      "('2017-06-14', 74.0)\n",
      "('2017-06-15', 75.0)\n",
      "('2017-06-16', 73.0)\n",
      "('2017-06-17', 79.0)\n",
      "('2017-06-18', 75.0)\n",
      "('2017-06-19', 72.0)\n",
      "('2017-06-20', 72.0)\n",
      "('2017-06-21', 74.0)\n",
      "('2017-06-22', 72.0)\n",
      "('2017-06-23', 72.0)\n",
      "('2017-06-24', 77.0)\n",
      "('2017-06-25', 71.0)\n",
      "('2017-06-26', 73.0)\n",
      "('2017-06-27', 76.0)\n",
      "('2017-06-28', 77.0)\n",
      "('2017-06-29', 76.0)\n",
      "('2017-06-30', 76.0)\n",
      "('2017-07-01', 79.0)\n",
      "('2017-07-02', 81.0)\n",
      "('2017-07-03', 76.0)\n",
      "('2017-07-04', 78.0)\n",
      "('2017-07-05', 77.0)\n",
      "('2017-07-06', 74.0)\n",
      "('2017-07-07', 75.0)\n",
      "('2017-07-08', 78.0)\n",
      "('2017-07-09', 78.0)\n",
      "('2017-07-10', 69.0)\n",
      "('2017-07-11', 72.0)\n",
      "('2017-07-12', 74.0)\n",
      "('2017-07-13', 74.0)\n",
      "('2017-07-14', 76.0)\n",
      "('2017-07-15', 80.0)\n",
      "('2017-07-16', 80.0)\n",
      "('2017-07-17', 76.0)\n",
      "('2017-07-18', 76.0)\n",
      "('2017-07-19', 76.0)\n",
      "('2017-07-20', 77.0)\n",
      "('2017-07-21', 77.0)\n",
      "('2017-07-22', 77.0)\n",
      "('2017-07-23', 82.0)\n",
      "('2017-07-24', 75.0)\n",
      "('2017-07-25', 77.0)\n",
      "('2017-07-26', 75.0)\n",
      "('2017-07-27', 76.0)\n",
      "('2017-07-28', 81.0)\n",
      "('2017-07-29', 82.0)\n",
      "('2017-07-30', 81.0)\n",
      "('2017-07-31', 76.0)\n",
      "('2017-08-04', 77.0)\n",
      "('2017-08-05', 82.0)\n",
      "('2017-08-06', 83.0)\n",
      "('2017-08-13', 77.0)\n",
      "('2017-08-14', 77.0)\n",
      "('2017-08-15', 77.0)\n",
      "('2017-08-16', 76.0)\n",
      "('2017-08-17', 76.0)\n",
      "('2017-08-18', 79.0)\n"
     ]
    }
   ],
   "source": [
    "# Choose the station with the highest number of temperature observations.\n",
    "active_station_observations =  session.query(Measurement.date,Measurement.tobs).\\\n",
    "                    filter(Measurement.station == station_id).\\\n",
    "                    filter(Measurement.date >= prior_year_date).all()\n",
    "\n",
    "# print the prior 12 months of observations for the most active station\n",
    "for observations in active_station_observations:\n",
    "    print(observations)"
   ]
  },
  {
   "cell_type": "code",
   "execution_count": 19,
   "metadata": {},
   "outputs": [
    {
     "data": {
      "text/plain": [
       "<matplotlib.axes._subplots.AxesSubplot at 0x293a6b0b978>"
      ]
     },
     "execution_count": 19,
     "metadata": {},
     "output_type": "execute_result"
    },
    {
     "data": {
      "image/png": "[encoded data removed]",
      "text/plain": [
       "<Figure size 432x288 with 1 Axes>"
      ]
     },
     "metadata": {},
     "output_type": "display_data"
    }
   ],
   "source": [
    "# Query the last 12 months of temperature observation data for this station and plot the results as a histogram\n",
    "active_station_df= pd.DataFrame(active_station_observations)\n",
    "active_station_df.plot(kind=\"hist\",bins=12, title=f'{station_id} 12-Month Temp Observations')"
   ]
  },
  {
   "cell_type": "markdown",
   "metadata": {},
   "source": [
    "## Bonus Challenge Assignment\n",
    "### Temperature Analysis I\n",
    "#### Hawaii is reputed to enjoy mild weather all year. Is there a meaningful difference between the temperature in, for example, June and December?"
   ]
  },
  {
   "cell_type": "code",
   "execution_count": 20,
   "metadata": {
    "scrolled": true
   },
   "outputs": [
    {
     "data": {
      "text/html": [
       "<div>\n",
       "<style scoped>\n",
       "    .dataframe tbody tr th:only-of-type {\n",
       "        vertical-align: middle;\n",
       "    }\n",
       "\n",
       "    .dataframe tbody tr th {\n",
       "        vertical-align: top;\n",
       "    }\n",
       "\n",
       "    .dataframe thead th {\n",
       "        text-align: right;\n",
       "    }\n",
       "</style>\n",
       "<table border=\"1\" class=\"dataframe\">\n",
       "  <thead>\n",
       "    <tr style=\"text-align: right;\">\n",
       "      <th></th>\n",
       "      <th>AVG TEMP</th>\n",
       "    </tr>\n",
       "    <tr>\n",
       "      <th>MONTH</th>\n",
       "      <th></th>\n",
       "    </tr>\n",
       "  </thead>\n",
       "  <tbody>\n",
       "    <tr>\n",
       "      <th>December</th>\n",
       "      <td>71.041529</td>\n",
       "    </tr>\n",
       "    <tr>\n",
       "      <th>June</th>\n",
       "      <td>74.944118</td>\n",
       "    </tr>\n",
       "  </tbody>\n",
       "</table>\n",
       "</div>"
      ],
      "text/plain": [
       "           AVG TEMP\n",
       "MONTH              \n",
       "December  71.041529\n",
       "June      74.944118"
      ]
     },
     "execution_count": 20,
     "metadata": {},
     "output_type": "execute_result"
    }
   ],
   "source": [
    "# pull the month and tobs from the mesurement table where the month is june or december\n",
    "temp_query = session.query(extract('month', Measurement.date), Measurement.tobs).\\\n",
    "                filter(or_(extract('month', Measurement.date) == '6', extract('month', Measurement.date) == '12')).all()\n",
    "\n",
    "# import query results into df  \n",
    "temp_df = pd.DataFrame(temp_query,columns=['MONTH','TEMP'])\n",
    "\n",
    "# make the month values eaiser to interpret\n",
    "temp_df['MONTH'] = temp_df['MONTH'].replace([6],'June')\n",
    "temp_df['MONTH'] = temp_df['MONTH'].replace([12],'December')\n",
    "\n",
    "# display the avg for each month\n",
    "temp_group_df = temp_df.groupby(by=['MONTH']).mean()\n",
    "temp_group_df = temp_group_df.rename(columns={\"TEMP\":\"AVG TEMP\"})\n",
    "temp_group_df"
   ]
  },
  {
   "cell_type": "code",
   "execution_count": 21,
   "metadata": {},
   "outputs": [
    {
     "name": "stdout",
     "output_type": "stream",
     "text": [
      "Ttest_indResult(statistic=31.60372399000329, pvalue=3.9025129038616655e-191)\n",
      "A P-Value of 3.9025129038616655e-191 is statistically significant.\n"
     ]
    }
   ],
   "source": [
    "# perfrom the ttest with scipy\n",
    "from scipy.stats import ttest_ind\n",
    "\n",
    "# create June and December series\n",
    "June = temp_df[temp_df['MONTH']=='June']\n",
    "December = temp_df[temp_df['MONTH']=='December']\n",
    "\n",
    "# perform the ttest against the June and December series\n",
    "ttest_results = ttest_ind(June['TEMP'], December['TEMP'])\n",
    "\n",
    "print(ttest_results)\n",
    "\n",
    "# determine if their is a statistical significance\n",
    "p_value = ttest_results[1]\n",
    "\n",
    "if p_value < 0.05:\n",
    "    print(f'A P-Value of {p_value} is statistically significant.')    \n",
    "else:\n",
    "    print(f'A P-Value of {p_value} is not statistically significant.')   \n",
    "    "
   ]
  },
  {
   "cell_type": "markdown",
   "metadata": {},
   "source": [
    "## Bonus Challenge Assignment\n",
    "### Temperature Analysis II"
   ]
  },
  {
   "cell_type": "code",
   "execution_count": 22,
   "metadata": {},
   "outputs": [
    {
     "name": "stdout",
     "output_type": "stream",
     "text": [
      "[(62.0, 69.57142857142857, 74.0)]\n"
     ]
    }
   ],
   "source": [
    "# This function called `calc_temps` will accept start date and end date in the format '%Y-%m-%d' \n",
    "# and return the minimum, average, and maximum temperatures for that range of dates\n",
    "def calc_temps(start_date, end_date):\n",
    "    \"\"\"TMIN, TAVG, and TMAX for a list of dates.\n",
    "    \n",
    "    Args:\n",
    "        start_date (string): A date string in the format %Y-%m-%d\n",
    "        end_date (string): A date string in the format %Y-%m-%d\n",
    "        \n",
    "    Returns:\n",
    "        TMIN, TAVE, and TMAX\n",
    "    \"\"\"\n",
    "    \n",
    "    return session.query(func.min(Measurement.tobs), func.avg(Measurement.tobs), func.max(Measurement.tobs)).\\\n",
    "        filter(Measurement.date >= start_date).filter(Measurement.date <= end_date).all()\n",
    "\n",
    "# function usage example\n",
    "print(calc_temps('2012-02-28', '2012-03-05'))"
   ]
  },
  {
   "cell_type": "code",
   "execution_count": 23,
   "metadata": {},
   "outputs": [
    {
     "data": {
      "text/html": [
       "<div>\n",
       "<style scoped>\n",
       "    .dataframe tbody tr th:only-of-type {\n",
       "        vertical-align: middle;\n",
       "    }\n",
       "\n",
       "    .dataframe tbody tr th {\n",
       "        vertical-align: top;\n",
       "    }\n",
       "\n",
       "    .dataframe thead th {\n",
       "        text-align: right;\n",
       "    }\n",
       "</style>\n",
       "<table border=\"1\" class=\"dataframe\">\n",
       "  <thead>\n",
       "    <tr style=\"text-align: right;\">\n",
       "      <th></th>\n",
       "      <th>TMIN</th>\n",
       "      <th>TAVE</th>\n",
       "      <th>TMAX</th>\n",
       "    </tr>\n",
       "  </thead>\n",
       "  <tbody>\n",
       "    <tr>\n",
       "      <th>0</th>\n",
       "      <td>63.0</td>\n",
       "      <td>75.0</td>\n",
       "      <td>79.0</td>\n",
       "    </tr>\n",
       "  </tbody>\n",
       "</table>\n",
       "</div>"
      ],
      "text/plain": [
       "   TMIN  TAVE  TMAX\n",
       "0  63.0  75.0  79.0"
      ]
     },
     "execution_count": 23,
     "metadata": {},
     "output_type": "execute_result"
    }
   ],
   "source": [
    "# Use your previous function `calc_temps` to calculate the tmin, tavg, and tmax \n",
    "# for your trip using the previous year's data for those same dates.\n",
    "\n",
    "# choose 2017 dates for vacation\n",
    "vacation_start = dt.datetime.strptime('2017-11-01', '%Y-%m-%d')\n",
    "vacation_end = dt.datetime.strptime('2017-11-07', '%Y-%m-%d') \n",
    "\n",
    "# determine the vacation dates from one year ago\n",
    "prior_year_start = dt.date(vacation_start.year -1, vacation_start.month, vacation_start.day)\n",
    "prior_end_start = dt.date(vacation_end.year -1, vacation_end.month, vacation_end.day)\n",
    "\n",
    "calc_temp_results = calc_temps(prior_year_start, prior_end_start)\n",
    "\n",
    "# create a df to hold the data\n",
    "columns = ['TMIN','TAVE','TMAX']\n",
    "calc_temp_df = pd.DataFrame(calc_temp_results,columns = columns)\n",
    "calc_temp_df"
   ]
  },
  {
   "cell_type": "code",
   "execution_count": 24,
   "metadata": {
    "scrolled": true
   },
   "outputs": [
    {
     "data": {
      "text/plain": [
       "Text(0, 0.5, 'Temp (F)')"
      ]
     },
     "execution_count": 24,
     "metadata": {},
     "output_type": "execute_result"
    },
    {
     "data": {
      "image/png": "[encoded data removed]",
      "text/plain": [
       "<Figure size 216x432 with 1 Axes>"
      ]
     },
     "metadata": {},
     "output_type": "display_data"
    }
   ],
   "source": [
    "# Plot the results from your previous query as a bar chart. \n",
    "# Use \"Trip Avg Temp\" as your Title\n",
    "# Use the average temperature for the y value\n",
    "# Use the peak-to-peak (tmax-tmin) value as the y error bar (yerr)\n",
    "y_error = [calc_temp_df['TMAX']- calc_temp_df['TMIN']]\n",
    "\n",
    "\n",
    "ax2 =calc_temp_df.plot(kind='bar', y='TAVE', \n",
    "                  yerr=y_error, \n",
    "                  color='red', \n",
    "                  alpha=0.2,\n",
    "                  legend = '',\n",
    "                  figsize=(3,6), \n",
    "                  title='Trip Avg Temp',\n",
    "                  align='edge'\n",
    "                 )\n",
    "\n",
    "plt.grid(which='major', axis='x', linestyle='')\n",
    "plt.ylabel(\"Temp (F)\")\n"
   ]
  },
  {
   "cell_type": "code",
   "execution_count": 25,
   "metadata": {},
   "outputs": [
    {
     "name": "stdout",
     "output_type": "stream",
     "text": [
      "('USC00519523', 'WAIMANALO EXPERIMENTAL FARM, HI US', 21.33556, -157.71139, 19.5, 540.0)\n",
      "('USC00514830', 'KUALOA RANCH HEADQUARTERS 886.9, HI US', 21.5213, -157.8374, 7.0, 536.0)\n",
      "('USC00519397', 'WAIKIKI 717.2, HI US', 21.2716, -157.8168, 3.0, 530.0)\n",
      "('USC00513117', 'KANEOHE 838.1, HI US', 21.4234, -157.8015, 14.6, 520.0)\n",
      "('USC00516128', 'MANOA LYON ARBO 785.2, HI US', 21.3331, -157.8025, 152.4, 514.0)\n",
      "('USC00519281', 'WAIHEE 837.5, HI US', 21.45167, -157.84888999999998, 32.9, 508.0)\n",
      "('USC00517948', 'PEARL CITY, HI US', 21.3934, -157.9751, 11.9, 152.0)\n"
     ]
    }
   ],
   "source": [
    "# Calculate the total amount of rainfall per weather station for your trip dates using the previous year's matching dates.\n",
    "# Sort this in descending order by precipitation amount and list the station, name, latitude, longitude, and elevation\n",
    "\n",
    "rainfall_sel = [Station.station, Station.name, Station.latitude, Station.longitude, Station.elevation, func.sum(Measurement.tobs)]\n",
    "\n",
    "rainfall_query = session.query(*rainfall_sel).\\\n",
    "                 group_by(Measurement.station).\\\n",
    "                 outerjoin(Station, Measurement.station == Station.station).\\\n",
    "                 filter(Measurement.date >= prior_year_start).\\\n",
    "                 filter(Measurement.date <= prior_end_start).\\\n",
    "                 order_by(func.sum(Measurement.tobs).desc()).all()\n",
    "\n",
    "for station in rainfall_query:\n",
    "    print(station)\n",
    "\n"
   ]
  },
  {
   "cell_type": "code",
   "execution_count": 26,
   "metadata": {},
   "outputs": [
    {
     "data": {
      "text/plain": [
       "[(62.0, 69.15384615384616, 77.0)]"
      ]
     },
     "execution_count": 26,
     "metadata": {},
     "output_type": "execute_result"
    }
   ],
   "source": [
    "# Create a query that will calculate the daily normals \n",
    "# (i.e. the averages for tmin, tmax, and tavg for all historic data matching a specific month and day)\n",
    "\n",
    "def daily_normals(date):\n",
    "    \"\"\"Daily Normals.\n",
    "    \n",
    "    Args:\n",
    "        date (str): A date string in the format '%m-%d'\n",
    "        \n",
    "    Returns:\n",
    "        A list of tuples containing the daily normals, tmin, tavg, and tmax\n",
    "    \n",
    "    \"\"\"\n",
    "    \n",
    "    sel = [func.min(Measurement.tobs), func.avg(Measurement.tobs), func.max(Measurement.tobs)]\n",
    "    return session.query(*sel).filter(func.strftime(\"%m-%d\", Measurement.date) == date).all()\n",
    "    \n",
    "daily_normals(\"01-01\")"
   ]
  },
  {
   "cell_type": "code",
   "execution_count": 27,
   "metadata": {},
   "outputs": [
    {
     "data": {
      "text/plain": [
       "[(65.0, 74.86274509803921, 83.0),\n",
       " (64.0, 74.0625, 81.0),\n",
       " (66.0, 74.95918367346938, 82.0),\n",
       " (65.0, 74.0754716981132, 82.0),\n",
       " (64.0, 73.5576923076923, 78.0),\n",
       " (66.0, 74.31111111111112, 81.0),\n",
       " (63.0, 73.76, 80.0)]"
      ]
     },
     "execution_count": 27,
     "metadata": {},
     "output_type": "execute_result"
    }
   ],
   "source": [
    "# calculate the daily normals for your trip\n",
    "# push each tuple of calculations into a list called `normals`\n",
    "normals = []\n",
    "trip_dates = []\n",
    "\n",
    "# Set the start and end date of the trip\n",
    "trip_start = vacation_start\n",
    "trip_end = vacation_end\n",
    "\n",
    "# Use the start and end date to create a range of dates\n",
    "trip_timedelta = (trip_end - trip_start)\n",
    "trip_length_days = (trip_timedelta.days + 1)\n",
    "\n",
    "# Loop through the list of %m-%d strings and calculate the normals for each date\n",
    "for i in range(trip_length_days):\n",
    "    trip_day = trip_start + dt.timedelta(days=i)\n",
    "    # Strip off the year and save a list of %m-%d strings\n",
    "    cleaned_day = dt.datetime.strftime(trip_day,'%m-%d')\n",
    "    trip_dates.append(cleaned_day)\n",
    "    normals.append(daily_normals(cleaned_day)[0])\n",
    "\n",
    "normals"
   ]
  },
  {
   "cell_type": "code",
   "execution_count": 28,
   "metadata": {},
   "outputs": [
    {
     "data": {
      "text/html": [
       "<div>\n",
       "<style scoped>\n",
       "    .dataframe tbody tr th:only-of-type {\n",
       "        vertical-align: middle;\n",
       "    }\n",
       "\n",
       "    .dataframe tbody tr th {\n",
       "        vertical-align: top;\n",
       "    }\n",
       "\n",
       "    .dataframe thead th {\n",
       "        text-align: right;\n",
       "    }\n",
       "</style>\n",
       "<table border=\"1\" class=\"dataframe\">\n",
       "  <thead>\n",
       "    <tr style=\"text-align: right;\">\n",
       "      <th></th>\n",
       "      <th>TMIN</th>\n",
       "      <th>TAVG</th>\n",
       "      <th>TMAX</th>\n",
       "    </tr>\n",
       "    <tr>\n",
       "      <th>Vacation Date</th>\n",
       "      <th></th>\n",
       "      <th></th>\n",
       "      <th></th>\n",
       "    </tr>\n",
       "  </thead>\n",
       "  <tbody>\n",
       "    <tr>\n",
       "      <th>11-01</th>\n",
       "      <td>65.0</td>\n",
       "      <td>74.862745</td>\n",
       "      <td>83.0</td>\n",
       "    </tr>\n",
       "    <tr>\n",
       "      <th>11-02</th>\n",
       "      <td>64.0</td>\n",
       "      <td>74.062500</td>\n",
       "      <td>81.0</td>\n",
       "    </tr>\n",
       "    <tr>\n",
       "      <th>11-03</th>\n",
       "      <td>66.0</td>\n",
       "      <td>74.959184</td>\n",
       "      <td>82.0</td>\n",
       "    </tr>\n",
       "    <tr>\n",
       "      <th>11-04</th>\n",
       "      <td>65.0</td>\n",
       "      <td>74.075472</td>\n",
       "      <td>82.0</td>\n",
       "    </tr>\n",
       "    <tr>\n",
       "      <th>11-05</th>\n",
       "      <td>64.0</td>\n",
       "      <td>73.557692</td>\n",
       "      <td>78.0</td>\n",
       "    </tr>\n",
       "    <tr>\n",
       "      <th>11-06</th>\n",
       "      <td>66.0</td>\n",
       "      <td>74.311111</td>\n",
       "      <td>81.0</td>\n",
       "    </tr>\n",
       "    <tr>\n",
       "      <th>11-07</th>\n",
       "      <td>63.0</td>\n",
       "      <td>73.760000</td>\n",
       "      <td>80.0</td>\n",
       "    </tr>\n",
       "  </tbody>\n",
       "</table>\n",
       "</div>"
      ],
      "text/plain": [
       "               TMIN       TAVG  TMAX\n",
       "Vacation Date                       \n",
       "11-01          65.0  74.862745  83.0\n",
       "11-02          64.0  74.062500  81.0\n",
       "11-03          66.0  74.959184  82.0\n",
       "11-04          65.0  74.075472  82.0\n",
       "11-05          64.0  73.557692  78.0\n",
       "11-06          66.0  74.311111  81.0\n",
       "11-07          63.0  73.760000  80.0"
      ]
     },
     "execution_count": 28,
     "metadata": {},
     "output_type": "execute_result"
    }
   ],
   "source": [
    "# Load the previous query results into a Pandas DataFrame and add the `trip_dates` range as the `date` index\n",
    "trip_normals_df = pd.DataFrame(normals, index=trip_dates, columns = ['TMIN' , 'TAVG', 'TMAX']) \n",
    "trip_normals_df.index.name = \"Vacation Date\"\n",
    "trip_normals_df"
   ]
  },
  {
   "cell_type": "code",
   "execution_count": 29,
   "metadata": {},
   "outputs": [
    {
     "data": {
      "image/png": "[encoded data removed]",
      "text/plain": [
       "<Figure size 720x576 with 1 Axes>"
      ]
     },
     "metadata": {},
     "output_type": "display_data"
    }
   ],
   "source": [
    "# Plot the daily normals as an area plot with `stacked=False`\n",
    "trip_normals_df.plot.area(stacked=False, figsize=(10, 8))\n",
    "plt.legend(('TMIN', 'TAVG', 'TMAX'),loc='lower left')\n",
    "plt.xlabel('Planned Vacation Dates',fontweight=\"bold\", alpha=0.6, fontsize=15)\n",
    "plt.ylabel('Temperature (F)',fontweight=\"bold\", alpha=0.6, fontsize=15)\n",
    "plt.xticks(fontsize=15, rotation=90)\n",
    "plt.show()"
   ]
  }
 ],
 "metadata": {
  "kernel_info": {
   "name": "python3"
  },
  "kernelspec": {
   "display_name": "Python [conda env:.conda-PythonData] *",
   "language": "python",
   "name": "conda-env-.conda-PythonData-py"
  },
  "language_info": {
   "codemirror_mode": {
    "name": "ipython",
    "version": 3
   },
   "file_extension": ".py",
   "mimetype": "text/x-python",
   "name": "python",
   "nbconvert_exporter": "python",
   "pygments_lexer": "ipython3",
   "version": "3.6.10"
  },
  "nteract": {
   "version": "0.12.3"
  },
  "varInspector": {
   "cols": {
    "lenName": 16,
    "lenType": 16,
    "lenVar": 40
   },
   "kernels_config": {
    "python": {
     "delete_cmd_postfix": "",
     "delete_cmd_prefix": "del ",
     "library": "var_list.py",
     "varRefreshCmd": "print(var_dic_list())"
    },
    "r": {
     "delete_cmd_postfix": ") ",
     "delete_cmd_prefix": "rm(",
     "library": "var_list.r",
     "varRefreshCmd": "cat(var_dic_list()) "
    }
   },
   "types_to_exclude": [
    "module",
    "function",
    "builtin_function_or_method",
    "instance",
    "_Feature"
   ],
   "window_display": false
  }
 },
 "nbformat": 4,
 "nbformat_minor": 2
}
